{
 "cells": [
  {
   "cell_type": "code",
   "execution_count": 1,
   "id": "e81829eb",
   "metadata": {},
   "outputs": [],
   "source": [
    "#essential libraries\n",
    "import pandas as pd\n",
    "import numpy as np\n",
    "import matplotlib.pyplot as plt\n",
    "import glob\n",
    "import time\n",
    "import re\n",
    "import seaborn as sns"
   ]
  },
  {
   "cell_type": "markdown",
   "id": "f5a601cf",
   "metadata": {},
   "source": [
    "### Gathering data"
   ]
  },
  {
   "cell_type": "code",
   "execution_count": 2,
   "id": "baab5243",
   "metadata": {},
   "outputs": [],
   "source": [
    "# downloading the WeRateDogs Twitter archive data (twitter_archive_enhanced.csv and reading them.\n",
    "twitter_archive = pd.read_csv(\"twitter-archive-enhanced.csv\")\n",
    "#twitter_archive.info()"
   ]
  },
  {
   "cell_type": "code",
   "execution_count": 3,
   "id": "2aaf2ca3",
   "metadata": {},
   "outputs": [],
   "source": [
    "# download the tweet image prediction (image_predictions.tsv) an reading\n",
    "import requests\n",
    "import io\n",
    "#dowloading the data\n",
    "r = requests.get('https://d17h27t6h515a5.cloudfront.net/topher/2017/August/599fd2ad_image-predictions/image-predictions.tsv')\n",
    "# reading data as dataframe\n",
    "twitt_img_pred = pd.read_csv(io.StringIO(r.text),sep='\\t')"
   ]
  },
  {
   "cell_type": "code",
   "execution_count": null,
   "id": "fa7544d0",
   "metadata": {
    "scrolled": false
   },
   "outputs": [],
   "source": [
    "#twitt_img_pred.head()"
   ]
  },
  {
   "cell_type": "code",
   "execution_count": null,
   "id": "efdf6579",
   "metadata": {},
   "outputs": [],
   "source": [
    "# connection to Twitter API\n",
    "import tweepy\n",
    "\n",
    "consumer_key = '****'\n",
    "consumer_secret = '******'\n",
    "access_token = '******'\n",
    "access_secret = '*******'\n",
    "\n",
    "auth = tweepy.OAuthHandler(consumer_key, consumer_secret)\n",
    "auth.set_access_token(access_token,access_secret)\n",
    "\n",
    "api = tweepy.API(auth,wait_on_rate_limit = True)"
   ]
  },
  {
   "cell_type": "code",
   "execution_count": null,
   "id": "41e5192a",
   "metadata": {},
   "outputs": [],
   "source": [
    "valid_list = []\n",
    "invalid_list= []\n",
    "\n",
    "start = time.time()\n",
    "\n",
    "# adding each favorites and retwwets count in a dataframe\n",
    "for tweet_id in twitter_archive['tweet_id']:\n",
    "    try:\n",
    "        tweet = api.get_status(tweet_id, tweet_mode='extended')._json \n",
    "        favorites = tweet['favorite_count'] # tweet's favorites\n",
    "        retweets = tweet['retweet_count'] # retweets count\n",
    "        valid_list.append({'tweet_id': int(tweet_id), 'favorites': int(favorites), 'retweets': int(retweets)}) # appending by desired value\n",
    "        \n",
    "    except Exception as e:\n",
    "        print(str(tweet_id)+ \" __ \" + str(e))\n",
    "        invalid_list.append(tweet_id) # append list when there is no status found on the id\n",
    "        \n",
    "\n",
    "end = time.time()\n",
    "print(end - start)\n",
    "\n"
   ]
  },
  {
   "cell_type": "code",
   "execution_count": null,
   "id": "fc375216",
   "metadata": {},
   "outputs": [],
   "source": [
    "#writing it on csv text file\n",
    "tweets_json = pd.DataFrame(valid_list, columns= ['tweet_id', 'favorites', 'retweets'], index_col = False )\n",
    "tweets_json.to_csv('tweets_json.txt')"
   ]
  },
  {
   "cell_type": "code",
   "execution_count": 17,
   "id": "d15f11e5",
   "metadata": {},
   "outputs": [],
   "source": [
    "tweets_data = pd.read_csv('tweets_json.txt', encoding = 'utf-8')"
   ]
  },
  {
   "cell_type": "markdown",
   "id": "82175a24",
   "metadata": {},
   "source": [
    "### ASSESING DATA"
   ]
  },
  {
   "cell_type": "code",
   "execution_count": 4,
   "id": "517e9e9c",
   "metadata": {
    "scrolled": true
   },
   "outputs": [
    {
     "data": {
      "text/html": [
       "<div>\n",
       "<style scoped>\n",
       "    .dataframe tbody tr th:only-of-type {\n",
       "        vertical-align: middle;\n",
       "    }\n",
       "\n",
       "    .dataframe tbody tr th {\n",
       "        vertical-align: top;\n",
       "    }\n",
       "\n",
       "    .dataframe thead th {\n",
       "        text-align: right;\n",
       "    }\n",
       "</style>\n",
       "<table border=\"1\" class=\"dataframe\">\n",
       "  <thead>\n",
       "    <tr style=\"text-align: right;\">\n",
       "      <th></th>\n",
       "      <th>tweet_id</th>\n",
       "      <th>in_reply_to_status_id</th>\n",
       "      <th>in_reply_to_user_id</th>\n",
       "      <th>timestamp</th>\n",
       "      <th>source</th>\n",
       "      <th>text</th>\n",
       "      <th>retweeted_status_id</th>\n",
       "      <th>retweeted_status_user_id</th>\n",
       "      <th>retweeted_status_timestamp</th>\n",
       "      <th>expanded_urls</th>\n",
       "      <th>rating_numerator</th>\n",
       "      <th>rating_denominator</th>\n",
       "      <th>name</th>\n",
       "      <th>doggo</th>\n",
       "      <th>floofer</th>\n",
       "      <th>pupper</th>\n",
       "      <th>puppo</th>\n",
       "    </tr>\n",
       "  </thead>\n",
       "  <tbody>\n",
       "    <tr>\n",
       "      <th>1243</th>\n",
       "      <td>711968124745228288</td>\n",
       "      <td>NaN</td>\n",
       "      <td>NaN</td>\n",
       "      <td>2016-03-21 17:30:03 +0000</td>\n",
       "      <td>&lt;a href=\"http://twitter.com/download/iphone\" r...</td>\n",
       "      <td>Meet Winston. He's trapped in a cup of coffee....</td>\n",
       "      <td>NaN</td>\n",
       "      <td>NaN</td>\n",
       "      <td>NaN</td>\n",
       "      <td>https://twitter.com/dog_rates/status/711968124...</td>\n",
       "      <td>10</td>\n",
       "      <td>10</td>\n",
       "      <td>Winston</td>\n",
       "      <td>None</td>\n",
       "      <td>None</td>\n",
       "      <td>pupper</td>\n",
       "      <td>None</td>\n",
       "    </tr>\n",
       "    <tr>\n",
       "      <th>1474</th>\n",
       "      <td>693644216740769793</td>\n",
       "      <td>6.936422e+17</td>\n",
       "      <td>4.196984e+09</td>\n",
       "      <td>2016-01-31 03:57:23 +0000</td>\n",
       "      <td>&lt;a href=\"http://twitter.com/download/iphone\" r...</td>\n",
       "      <td>BREAKING PUPDATE: I've just been notified that...</td>\n",
       "      <td>NaN</td>\n",
       "      <td>NaN</td>\n",
       "      <td>NaN</td>\n",
       "      <td>NaN</td>\n",
       "      <td>10</td>\n",
       "      <td>10</td>\n",
       "      <td>None</td>\n",
       "      <td>None</td>\n",
       "      <td>None</td>\n",
       "      <td>None</td>\n",
       "      <td>None</td>\n",
       "    </tr>\n",
       "    <tr>\n",
       "      <th>663</th>\n",
       "      <td>790946055508652032</td>\n",
       "      <td>NaN</td>\n",
       "      <td>NaN</td>\n",
       "      <td>2016-10-25 16:00:09 +0000</td>\n",
       "      <td>&lt;a href=\"http://twitter.com/download/iphone\" r...</td>\n",
       "      <td>This is Betty. She's assisting with the dishes...</td>\n",
       "      <td>NaN</td>\n",
       "      <td>NaN</td>\n",
       "      <td>NaN</td>\n",
       "      <td>https://twitter.com/dog_rates/status/790946055...</td>\n",
       "      <td>12</td>\n",
       "      <td>10</td>\n",
       "      <td>Betty</td>\n",
       "      <td>None</td>\n",
       "      <td>None</td>\n",
       "      <td>None</td>\n",
       "      <td>puppo</td>\n",
       "    </tr>\n",
       "    <tr>\n",
       "      <th>1504</th>\n",
       "      <td>691820333922455552</td>\n",
       "      <td>NaN</td>\n",
       "      <td>NaN</td>\n",
       "      <td>2016-01-26 03:09:55 +0000</td>\n",
       "      <td>&lt;a href=\"http://twitter.com/download/iphone\" r...</td>\n",
       "      <td>This is Brockly. He's an uber driver. Falls as...</td>\n",
       "      <td>NaN</td>\n",
       "      <td>NaN</td>\n",
       "      <td>NaN</td>\n",
       "      <td>https://twitter.com/dog_rates/status/691820333...</td>\n",
       "      <td>8</td>\n",
       "      <td>10</td>\n",
       "      <td>Brockly</td>\n",
       "      <td>None</td>\n",
       "      <td>None</td>\n",
       "      <td>None</td>\n",
       "      <td>None</td>\n",
       "    </tr>\n",
       "    <tr>\n",
       "      <th>1087</th>\n",
       "      <td>738156290900254721</td>\n",
       "      <td>NaN</td>\n",
       "      <td>NaN</td>\n",
       "      <td>2016-06-01 23:52:28 +0000</td>\n",
       "      <td>&lt;a href=\"http://twitter.com/download/iphone\" r...</td>\n",
       "      <td>This is Storkson. He's wet and sad. 10/10 chee...</td>\n",
       "      <td>NaN</td>\n",
       "      <td>NaN</td>\n",
       "      <td>NaN</td>\n",
       "      <td>https://twitter.com/dog_rates/status/738156290...</td>\n",
       "      <td>10</td>\n",
       "      <td>10</td>\n",
       "      <td>Storkson</td>\n",
       "      <td>None</td>\n",
       "      <td>None</td>\n",
       "      <td>None</td>\n",
       "      <td>None</td>\n",
       "    </tr>\n",
       "    <tr>\n",
       "      <th>1651</th>\n",
       "      <td>683498322573824003</td>\n",
       "      <td>NaN</td>\n",
       "      <td>NaN</td>\n",
       "      <td>2016-01-03 04:01:13 +0000</td>\n",
       "      <td>&lt;a href=\"http://twitter.com/download/iphone\" r...</td>\n",
       "      <td>This is Griffin. He's desperate for both a phy...</td>\n",
       "      <td>NaN</td>\n",
       "      <td>NaN</td>\n",
       "      <td>NaN</td>\n",
       "      <td>https://twitter.com/dog_rates/status/683498322...</td>\n",
       "      <td>11</td>\n",
       "      <td>10</td>\n",
       "      <td>Griffin</td>\n",
       "      <td>None</td>\n",
       "      <td>None</td>\n",
       "      <td>None</td>\n",
       "      <td>None</td>\n",
       "    </tr>\n",
       "    <tr>\n",
       "      <th>1001</th>\n",
       "      <td>747933425676525569</td>\n",
       "      <td>NaN</td>\n",
       "      <td>NaN</td>\n",
       "      <td>2016-06-28 23:23:19 +0000</td>\n",
       "      <td>&lt;a href=\"http://twitter.com/download/iphone\" r...</td>\n",
       "      <td>Pls don't send more sherks. I don't care how s...</td>\n",
       "      <td>NaN</td>\n",
       "      <td>NaN</td>\n",
       "      <td>NaN</td>\n",
       "      <td>https://twitter.com/dog_rates/status/747933425...</td>\n",
       "      <td>11</td>\n",
       "      <td>10</td>\n",
       "      <td>None</td>\n",
       "      <td>None</td>\n",
       "      <td>None</td>\n",
       "      <td>None</td>\n",
       "      <td>None</td>\n",
       "    </tr>\n",
       "    <tr>\n",
       "      <th>748</th>\n",
       "      <td>779377524342161408</td>\n",
       "      <td>NaN</td>\n",
       "      <td>NaN</td>\n",
       "      <td>2016-09-23 17:50:56 +0000</td>\n",
       "      <td>&lt;a href=\"http://twitter.com/download/iphone\" r...</td>\n",
       "      <td>Have you ever seen such a smol pupper? Portabl...</td>\n",
       "      <td>NaN</td>\n",
       "      <td>NaN</td>\n",
       "      <td>NaN</td>\n",
       "      <td>https://twitter.com/dog_rates/status/779377524...</td>\n",
       "      <td>12</td>\n",
       "      <td>10</td>\n",
       "      <td>None</td>\n",
       "      <td>None</td>\n",
       "      <td>None</td>\n",
       "      <td>pupper</td>\n",
       "      <td>None</td>\n",
       "    </tr>\n",
       "    <tr>\n",
       "      <th>1239</th>\n",
       "      <td>712092745624633345</td>\n",
       "      <td>NaN</td>\n",
       "      <td>NaN</td>\n",
       "      <td>2016-03-22 01:45:15 +0000</td>\n",
       "      <td>&lt;a href=\"http://twitter.com/download/iphone\" r...</td>\n",
       "      <td>This is Steven. He's inverted af. Also very he...</td>\n",
       "      <td>NaN</td>\n",
       "      <td>NaN</td>\n",
       "      <td>NaN</td>\n",
       "      <td>https://twitter.com/dog_rates/status/712092745...</td>\n",
       "      <td>7</td>\n",
       "      <td>10</td>\n",
       "      <td>Steven</td>\n",
       "      <td>None</td>\n",
       "      <td>None</td>\n",
       "      <td>None</td>\n",
       "      <td>None</td>\n",
       "    </tr>\n",
       "    <tr>\n",
       "      <th>824</th>\n",
       "      <td>769940425801170949</td>\n",
       "      <td>NaN</td>\n",
       "      <td>NaN</td>\n",
       "      <td>2016-08-28 16:51:16 +0000</td>\n",
       "      <td>&lt;a href=\"http://twitter.com/download/iphone\" r...</td>\n",
       "      <td>This is Klein. These pics were taken a month a...</td>\n",
       "      <td>NaN</td>\n",
       "      <td>NaN</td>\n",
       "      <td>NaN</td>\n",
       "      <td>https://twitter.com/dog_rates/status/769940425...</td>\n",
       "      <td>12</td>\n",
       "      <td>10</td>\n",
       "      <td>Klein</td>\n",
       "      <td>None</td>\n",
       "      <td>None</td>\n",
       "      <td>None</td>\n",
       "      <td>None</td>\n",
       "    </tr>\n",
       "    <tr>\n",
       "      <th>49</th>\n",
       "      <td>882762694511734784</td>\n",
       "      <td>NaN</td>\n",
       "      <td>NaN</td>\n",
       "      <td>2017-07-06 00:46:41 +0000</td>\n",
       "      <td>&lt;a href=\"http://twitter.com/download/iphone\" r...</td>\n",
       "      <td>This is Gus. He's quite the cheeky pupper. Alr...</td>\n",
       "      <td>NaN</td>\n",
       "      <td>NaN</td>\n",
       "      <td>NaN</td>\n",
       "      <td>https://twitter.com/dog_rates/status/882762694...</td>\n",
       "      <td>12</td>\n",
       "      <td>10</td>\n",
       "      <td>Gus</td>\n",
       "      <td>None</td>\n",
       "      <td>None</td>\n",
       "      <td>pupper</td>\n",
       "      <td>None</td>\n",
       "    </tr>\n",
       "    <tr>\n",
       "      <th>403</th>\n",
       "      <td>824297048279236611</td>\n",
       "      <td>NaN</td>\n",
       "      <td>NaN</td>\n",
       "      <td>2017-01-25 16:45:05 +0000</td>\n",
       "      <td>&lt;a href=\"http://twitter.com/download/iphone\" r...</td>\n",
       "      <td>This is Nala. She got in trouble. One h*ck of ...</td>\n",
       "      <td>NaN</td>\n",
       "      <td>NaN</td>\n",
       "      <td>NaN</td>\n",
       "      <td>https://twitter.com/dog_rates/status/824297048...</td>\n",
       "      <td>11</td>\n",
       "      <td>10</td>\n",
       "      <td>Nala</td>\n",
       "      <td>None</td>\n",
       "      <td>None</td>\n",
       "      <td>None</td>\n",
       "      <td>None</td>\n",
       "    </tr>\n",
       "    <tr>\n",
       "      <th>301</th>\n",
       "      <td>836677758902222849</td>\n",
       "      <td>NaN</td>\n",
       "      <td>NaN</td>\n",
       "      <td>2017-02-28 20:41:37 +0000</td>\n",
       "      <td>&lt;a href=\"http://twitter.com/download/iphone\" r...</td>\n",
       "      <td>Say hello to Oliver. He's pretty exotic. Fairl...</td>\n",
       "      <td>NaN</td>\n",
       "      <td>NaN</td>\n",
       "      <td>NaN</td>\n",
       "      <td>https://twitter.com/dog_rates/status/836677758...</td>\n",
       "      <td>11</td>\n",
       "      <td>10</td>\n",
       "      <td>Oliver</td>\n",
       "      <td>None</td>\n",
       "      <td>None</td>\n",
       "      <td>None</td>\n",
       "      <td>None</td>\n",
       "    </tr>\n",
       "    <tr>\n",
       "      <th>252</th>\n",
       "      <td>844973813909606400</td>\n",
       "      <td>NaN</td>\n",
       "      <td>NaN</td>\n",
       "      <td>2017-03-23 18:07:10 +0000</td>\n",
       "      <td>&lt;a href=\"http://twitter.com/download/iphone\" r...</td>\n",
       "      <td>This is Brady. He's a recovering alcoholic. De...</td>\n",
       "      <td>NaN</td>\n",
       "      <td>NaN</td>\n",
       "      <td>NaN</td>\n",
       "      <td>https://twitter.com/dog_rates/status/844973813...</td>\n",
       "      <td>12</td>\n",
       "      <td>10</td>\n",
       "      <td>Brady</td>\n",
       "      <td>None</td>\n",
       "      <td>None</td>\n",
       "      <td>None</td>\n",
       "      <td>None</td>\n",
       "    </tr>\n",
       "    <tr>\n",
       "      <th>2074</th>\n",
       "      <td>670842764863651840</td>\n",
       "      <td>NaN</td>\n",
       "      <td>NaN</td>\n",
       "      <td>2015-11-29 05:52:33 +0000</td>\n",
       "      <td>&lt;a href=\"http://twitter.com/download/iphone\" r...</td>\n",
       "      <td>After so many requests... here you go.\\n\\nGood...</td>\n",
       "      <td>NaN</td>\n",
       "      <td>NaN</td>\n",
       "      <td>NaN</td>\n",
       "      <td>https://twitter.com/dog_rates/status/670842764...</td>\n",
       "      <td>420</td>\n",
       "      <td>10</td>\n",
       "      <td>None</td>\n",
       "      <td>None</td>\n",
       "      <td>None</td>\n",
       "      <td>None</td>\n",
       "      <td>None</td>\n",
       "    </tr>\n",
       "  </tbody>\n",
       "</table>\n",
       "</div>"
      ],
      "text/plain": [
       "                tweet_id  in_reply_to_status_id  in_reply_to_user_id  \\\n",
       "1243  711968124745228288                    NaN                  NaN   \n",
       "1474  693644216740769793           6.936422e+17         4.196984e+09   \n",
       "663   790946055508652032                    NaN                  NaN   \n",
       "1504  691820333922455552                    NaN                  NaN   \n",
       "1087  738156290900254721                    NaN                  NaN   \n",
       "1651  683498322573824003                    NaN                  NaN   \n",
       "1001  747933425676525569                    NaN                  NaN   \n",
       "748   779377524342161408                    NaN                  NaN   \n",
       "1239  712092745624633345                    NaN                  NaN   \n",
       "824   769940425801170949                    NaN                  NaN   \n",
       "49    882762694511734784                    NaN                  NaN   \n",
       "403   824297048279236611                    NaN                  NaN   \n",
       "301   836677758902222849                    NaN                  NaN   \n",
       "252   844973813909606400                    NaN                  NaN   \n",
       "2074  670842764863651840                    NaN                  NaN   \n",
       "\n",
       "                      timestamp  \\\n",
       "1243  2016-03-21 17:30:03 +0000   \n",
       "1474  2016-01-31 03:57:23 +0000   \n",
       "663   2016-10-25 16:00:09 +0000   \n",
       "1504  2016-01-26 03:09:55 +0000   \n",
       "1087  2016-06-01 23:52:28 +0000   \n",
       "1651  2016-01-03 04:01:13 +0000   \n",
       "1001  2016-06-28 23:23:19 +0000   \n",
       "748   2016-09-23 17:50:56 +0000   \n",
       "1239  2016-03-22 01:45:15 +0000   \n",
       "824   2016-08-28 16:51:16 +0000   \n",
       "49    2017-07-06 00:46:41 +0000   \n",
       "403   2017-01-25 16:45:05 +0000   \n",
       "301   2017-02-28 20:41:37 +0000   \n",
       "252   2017-03-23 18:07:10 +0000   \n",
       "2074  2015-11-29 05:52:33 +0000   \n",
       "\n",
       "                                                 source  \\\n",
       "1243  <a href=\"http://twitter.com/download/iphone\" r...   \n",
       "1474  <a href=\"http://twitter.com/download/iphone\" r...   \n",
       "663   <a href=\"http://twitter.com/download/iphone\" r...   \n",
       "1504  <a href=\"http://twitter.com/download/iphone\" r...   \n",
       "1087  <a href=\"http://twitter.com/download/iphone\" r...   \n",
       "1651  <a href=\"http://twitter.com/download/iphone\" r...   \n",
       "1001  <a href=\"http://twitter.com/download/iphone\" r...   \n",
       "748   <a href=\"http://twitter.com/download/iphone\" r...   \n",
       "1239  <a href=\"http://twitter.com/download/iphone\" r...   \n",
       "824   <a href=\"http://twitter.com/download/iphone\" r...   \n",
       "49    <a href=\"http://twitter.com/download/iphone\" r...   \n",
       "403   <a href=\"http://twitter.com/download/iphone\" r...   \n",
       "301   <a href=\"http://twitter.com/download/iphone\" r...   \n",
       "252   <a href=\"http://twitter.com/download/iphone\" r...   \n",
       "2074  <a href=\"http://twitter.com/download/iphone\" r...   \n",
       "\n",
       "                                                   text  retweeted_status_id  \\\n",
       "1243  Meet Winston. He's trapped in a cup of coffee....                  NaN   \n",
       "1474  BREAKING PUPDATE: I've just been notified that...                  NaN   \n",
       "663   This is Betty. She's assisting with the dishes...                  NaN   \n",
       "1504  This is Brockly. He's an uber driver. Falls as...                  NaN   \n",
       "1087  This is Storkson. He's wet and sad. 10/10 chee...                  NaN   \n",
       "1651  This is Griffin. He's desperate for both a phy...                  NaN   \n",
       "1001  Pls don't send more sherks. I don't care how s...                  NaN   \n",
       "748   Have you ever seen such a smol pupper? Portabl...                  NaN   \n",
       "1239  This is Steven. He's inverted af. Also very he...                  NaN   \n",
       "824   This is Klein. These pics were taken a month a...                  NaN   \n",
       "49    This is Gus. He's quite the cheeky pupper. Alr...                  NaN   \n",
       "403   This is Nala. She got in trouble. One h*ck of ...                  NaN   \n",
       "301   Say hello to Oliver. He's pretty exotic. Fairl...                  NaN   \n",
       "252   This is Brady. He's a recovering alcoholic. De...                  NaN   \n",
       "2074  After so many requests... here you go.\\n\\nGood...                  NaN   \n",
       "\n",
       "      retweeted_status_user_id retweeted_status_timestamp  \\\n",
       "1243                       NaN                        NaN   \n",
       "1474                       NaN                        NaN   \n",
       "663                        NaN                        NaN   \n",
       "1504                       NaN                        NaN   \n",
       "1087                       NaN                        NaN   \n",
       "1651                       NaN                        NaN   \n",
       "1001                       NaN                        NaN   \n",
       "748                        NaN                        NaN   \n",
       "1239                       NaN                        NaN   \n",
       "824                        NaN                        NaN   \n",
       "49                         NaN                        NaN   \n",
       "403                        NaN                        NaN   \n",
       "301                        NaN                        NaN   \n",
       "252                        NaN                        NaN   \n",
       "2074                       NaN                        NaN   \n",
       "\n",
       "                                          expanded_urls  rating_numerator  \\\n",
       "1243  https://twitter.com/dog_rates/status/711968124...                10   \n",
       "1474                                                NaN                10   \n",
       "663   https://twitter.com/dog_rates/status/790946055...                12   \n",
       "1504  https://twitter.com/dog_rates/status/691820333...                 8   \n",
       "1087  https://twitter.com/dog_rates/status/738156290...                10   \n",
       "1651  https://twitter.com/dog_rates/status/683498322...                11   \n",
       "1001  https://twitter.com/dog_rates/status/747933425...                11   \n",
       "748   https://twitter.com/dog_rates/status/779377524...                12   \n",
       "1239  https://twitter.com/dog_rates/status/712092745...                 7   \n",
       "824   https://twitter.com/dog_rates/status/769940425...                12   \n",
       "49    https://twitter.com/dog_rates/status/882762694...                12   \n",
       "403   https://twitter.com/dog_rates/status/824297048...                11   \n",
       "301   https://twitter.com/dog_rates/status/836677758...                11   \n",
       "252   https://twitter.com/dog_rates/status/844973813...                12   \n",
       "2074  https://twitter.com/dog_rates/status/670842764...               420   \n",
       "\n",
       "      rating_denominator      name doggo floofer  pupper  puppo  \n",
       "1243                  10   Winston  None    None  pupper   None  \n",
       "1474                  10      None  None    None    None   None  \n",
       "663                   10     Betty  None    None    None  puppo  \n",
       "1504                  10   Brockly  None    None    None   None  \n",
       "1087                  10  Storkson  None    None    None   None  \n",
       "1651                  10   Griffin  None    None    None   None  \n",
       "1001                  10      None  None    None    None   None  \n",
       "748                   10      None  None    None  pupper   None  \n",
       "1239                  10    Steven  None    None    None   None  \n",
       "824                   10     Klein  None    None    None   None  \n",
       "49                    10       Gus  None    None  pupper   None  \n",
       "403                   10      Nala  None    None    None   None  \n",
       "301                   10    Oliver  None    None    None   None  \n",
       "252                   10     Brady  None    None    None   None  \n",
       "2074                  10      None  None    None    None   None  "
      ]
     },
     "execution_count": 4,
     "metadata": {},
     "output_type": "execute_result"
    }
   ],
   "source": [
    "#Visual assesement\n",
    "twitter_archive.sample(15)"
   ]
  },
  {
   "cell_type": "code",
   "execution_count": 5,
   "id": "75bf9fdb",
   "metadata": {
    "scrolled": true
   },
   "outputs": [
    {
     "name": "stdout",
     "output_type": "stream",
     "text": [
      "<class 'pandas.core.frame.DataFrame'>\n",
      "RangeIndex: 2356 entries, 0 to 2355\n",
      "Data columns (total 17 columns):\n",
      " #   Column                      Non-Null Count  Dtype  \n",
      "---  ------                      --------------  -----  \n",
      " 0   tweet_id                    2356 non-null   int64  \n",
      " 1   in_reply_to_status_id       78 non-null     float64\n",
      " 2   in_reply_to_user_id         78 non-null     float64\n",
      " 3   timestamp                   2356 non-null   object \n",
      " 4   source                      2356 non-null   object \n",
      " 5   text                        2356 non-null   object \n",
      " 6   retweeted_status_id         181 non-null    float64\n",
      " 7   retweeted_status_user_id    181 non-null    float64\n",
      " 8   retweeted_status_timestamp  181 non-null    object \n",
      " 9   expanded_urls               2297 non-null   object \n",
      " 10  rating_numerator            2356 non-null   int64  \n",
      " 11  rating_denominator          2356 non-null   int64  \n",
      " 12  name                        2356 non-null   object \n",
      " 13  doggo                       2356 non-null   object \n",
      " 14  floofer                     2356 non-null   object \n",
      " 15  pupper                      2356 non-null   object \n",
      " 16  puppo                       2356 non-null   object \n",
      "dtypes: float64(4), int64(3), object(10)\n",
      "memory usage: 313.0+ KB\n"
     ]
    }
   ],
   "source": [
    "twitter_archive.info()"
   ]
  },
  {
   "cell_type": "code",
   "execution_count": 6,
   "id": "3237ce76",
   "metadata": {
    "scrolled": true
   },
   "outputs": [
    {
     "data": {
      "text/html": [
       "<div>\n",
       "<style scoped>\n",
       "    .dataframe tbody tr th:only-of-type {\n",
       "        vertical-align: middle;\n",
       "    }\n",
       "\n",
       "    .dataframe tbody tr th {\n",
       "        vertical-align: top;\n",
       "    }\n",
       "\n",
       "    .dataframe thead th {\n",
       "        text-align: right;\n",
       "    }\n",
       "</style>\n",
       "<table border=\"1\" class=\"dataframe\">\n",
       "  <thead>\n",
       "    <tr style=\"text-align: right;\">\n",
       "      <th></th>\n",
       "      <th>tweet_id</th>\n",
       "      <th>in_reply_to_status_id</th>\n",
       "      <th>in_reply_to_user_id</th>\n",
       "      <th>retweeted_status_id</th>\n",
       "      <th>retweeted_status_user_id</th>\n",
       "      <th>rating_numerator</th>\n",
       "      <th>rating_denominator</th>\n",
       "    </tr>\n",
       "  </thead>\n",
       "  <tbody>\n",
       "    <tr>\n",
       "      <th>count</th>\n",
       "      <td>2.356000e+03</td>\n",
       "      <td>7.800000e+01</td>\n",
       "      <td>7.800000e+01</td>\n",
       "      <td>1.810000e+02</td>\n",
       "      <td>1.810000e+02</td>\n",
       "      <td>2356.000000</td>\n",
       "      <td>2356.000000</td>\n",
       "    </tr>\n",
       "    <tr>\n",
       "      <th>mean</th>\n",
       "      <td>7.427716e+17</td>\n",
       "      <td>7.455079e+17</td>\n",
       "      <td>2.014171e+16</td>\n",
       "      <td>7.720400e+17</td>\n",
       "      <td>1.241698e+16</td>\n",
       "      <td>13.126486</td>\n",
       "      <td>10.455433</td>\n",
       "    </tr>\n",
       "    <tr>\n",
       "      <th>std</th>\n",
       "      <td>6.856705e+16</td>\n",
       "      <td>7.582492e+16</td>\n",
       "      <td>1.252797e+17</td>\n",
       "      <td>6.236928e+16</td>\n",
       "      <td>9.599254e+16</td>\n",
       "      <td>45.876648</td>\n",
       "      <td>6.745237</td>\n",
       "    </tr>\n",
       "    <tr>\n",
       "      <th>min</th>\n",
       "      <td>6.660209e+17</td>\n",
       "      <td>6.658147e+17</td>\n",
       "      <td>1.185634e+07</td>\n",
       "      <td>6.661041e+17</td>\n",
       "      <td>7.832140e+05</td>\n",
       "      <td>0.000000</td>\n",
       "      <td>0.000000</td>\n",
       "    </tr>\n",
       "    <tr>\n",
       "      <th>25%</th>\n",
       "      <td>6.783989e+17</td>\n",
       "      <td>6.757419e+17</td>\n",
       "      <td>3.086374e+08</td>\n",
       "      <td>7.186315e+17</td>\n",
       "      <td>4.196984e+09</td>\n",
       "      <td>10.000000</td>\n",
       "      <td>10.000000</td>\n",
       "    </tr>\n",
       "    <tr>\n",
       "      <th>50%</th>\n",
       "      <td>7.196279e+17</td>\n",
       "      <td>7.038708e+17</td>\n",
       "      <td>4.196984e+09</td>\n",
       "      <td>7.804657e+17</td>\n",
       "      <td>4.196984e+09</td>\n",
       "      <td>11.000000</td>\n",
       "      <td>10.000000</td>\n",
       "    </tr>\n",
       "    <tr>\n",
       "      <th>75%</th>\n",
       "      <td>7.993373e+17</td>\n",
       "      <td>8.257804e+17</td>\n",
       "      <td>4.196984e+09</td>\n",
       "      <td>8.203146e+17</td>\n",
       "      <td>4.196984e+09</td>\n",
       "      <td>12.000000</td>\n",
       "      <td>10.000000</td>\n",
       "    </tr>\n",
       "    <tr>\n",
       "      <th>max</th>\n",
       "      <td>8.924206e+17</td>\n",
       "      <td>8.862664e+17</td>\n",
       "      <td>8.405479e+17</td>\n",
       "      <td>8.874740e+17</td>\n",
       "      <td>7.874618e+17</td>\n",
       "      <td>1776.000000</td>\n",
       "      <td>170.000000</td>\n",
       "    </tr>\n",
       "  </tbody>\n",
       "</table>\n",
       "</div>"
      ],
      "text/plain": [
       "           tweet_id  in_reply_to_status_id  in_reply_to_user_id  \\\n",
       "count  2.356000e+03           7.800000e+01         7.800000e+01   \n",
       "mean   7.427716e+17           7.455079e+17         2.014171e+16   \n",
       "std    6.856705e+16           7.582492e+16         1.252797e+17   \n",
       "min    6.660209e+17           6.658147e+17         1.185634e+07   \n",
       "25%    6.783989e+17           6.757419e+17         3.086374e+08   \n",
       "50%    7.196279e+17           7.038708e+17         4.196984e+09   \n",
       "75%    7.993373e+17           8.257804e+17         4.196984e+09   \n",
       "max    8.924206e+17           8.862664e+17         8.405479e+17   \n",
       "\n",
       "       retweeted_status_id  retweeted_status_user_id  rating_numerator  \\\n",
       "count         1.810000e+02              1.810000e+02       2356.000000   \n",
       "mean          7.720400e+17              1.241698e+16         13.126486   \n",
       "std           6.236928e+16              9.599254e+16         45.876648   \n",
       "min           6.661041e+17              7.832140e+05          0.000000   \n",
       "25%           7.186315e+17              4.196984e+09         10.000000   \n",
       "50%           7.804657e+17              4.196984e+09         11.000000   \n",
       "75%           8.203146e+17              4.196984e+09         12.000000   \n",
       "max           8.874740e+17              7.874618e+17       1776.000000   \n",
       "\n",
       "       rating_denominator  \n",
       "count         2356.000000  \n",
       "mean            10.455433  \n",
       "std              6.745237  \n",
       "min              0.000000  \n",
       "25%             10.000000  \n",
       "50%             10.000000  \n",
       "75%             10.000000  \n",
       "max            170.000000  "
      ]
     },
     "execution_count": 6,
     "metadata": {},
     "output_type": "execute_result"
    }
   ],
   "source": [
    "twitter_archive.describe()"
   ]
  },
  {
   "cell_type": "code",
   "execution_count": 7,
   "id": "f536f437",
   "metadata": {},
   "outputs": [
    {
     "data": {
      "text/html": [
       "<div>\n",
       "<style scoped>\n",
       "    .dataframe tbody tr th:only-of-type {\n",
       "        vertical-align: middle;\n",
       "    }\n",
       "\n",
       "    .dataframe tbody tr th {\n",
       "        vertical-align: top;\n",
       "    }\n",
       "\n",
       "    .dataframe thead th {\n",
       "        text-align: right;\n",
       "    }\n",
       "</style>\n",
       "<table border=\"1\" class=\"dataframe\">\n",
       "  <thead>\n",
       "    <tr style=\"text-align: right;\">\n",
       "      <th></th>\n",
       "      <th>tweet_id</th>\n",
       "      <th>jpg_url</th>\n",
       "      <th>img_num</th>\n",
       "      <th>p1</th>\n",
       "      <th>p1_conf</th>\n",
       "      <th>p1_dog</th>\n",
       "      <th>p2</th>\n",
       "      <th>p2_conf</th>\n",
       "      <th>p2_dog</th>\n",
       "      <th>p3</th>\n",
       "      <th>p3_conf</th>\n",
       "      <th>p3_dog</th>\n",
       "    </tr>\n",
       "  </thead>\n",
       "  <tbody>\n",
       "    <tr>\n",
       "      <th>403</th>\n",
       "      <td>673700254269775872</td>\n",
       "      <td>https://pbs.twimg.com/media/CVl2ydUWsAA1jD6.jpg</td>\n",
       "      <td>1</td>\n",
       "      <td>water_bottle</td>\n",
       "      <td>0.614536</td>\n",
       "      <td>False</td>\n",
       "      <td>ashcan</td>\n",
       "      <td>0.050911</td>\n",
       "      <td>False</td>\n",
       "      <td>bucket</td>\n",
       "      <td>0.037432</td>\n",
       "      <td>False</td>\n",
       "    </tr>\n",
       "    <tr>\n",
       "      <th>1159</th>\n",
       "      <td>733828123016450049</td>\n",
       "      <td>https://pbs.twimg.com/media/Ci8UxxcW0AYgHDh.jpg</td>\n",
       "      <td>2</td>\n",
       "      <td>beagle</td>\n",
       "      <td>0.472324</td>\n",
       "      <td>True</td>\n",
       "      <td>Walker_hound</td>\n",
       "      <td>0.121779</td>\n",
       "      <td>True</td>\n",
       "      <td>Saint_Bernard</td>\n",
       "      <td>0.114640</td>\n",
       "      <td>True</td>\n",
       "    </tr>\n",
       "    <tr>\n",
       "      <th>743</th>\n",
       "      <td>687476254459715584</td>\n",
       "      <td>https://pbs.twimg.com/media/CYpoAZTWEAA6vDs.jpg</td>\n",
       "      <td>1</td>\n",
       "      <td>wood_rabbit</td>\n",
       "      <td>0.702725</td>\n",
       "      <td>False</td>\n",
       "      <td>Angora</td>\n",
       "      <td>0.190659</td>\n",
       "      <td>False</td>\n",
       "      <td>hare</td>\n",
       "      <td>0.105072</td>\n",
       "      <td>False</td>\n",
       "    </tr>\n",
       "    <tr>\n",
       "      <th>1470</th>\n",
       "      <td>779123168116150273</td>\n",
       "      <td>https://pbs.twimg.com/media/CtAAYizW8AAWzBZ.jpg</td>\n",
       "      <td>1</td>\n",
       "      <td>toy_poodle</td>\n",
       "      <td>0.431080</td>\n",
       "      <td>True</td>\n",
       "      <td>soft-coated_wheaten_terrier</td>\n",
       "      <td>0.060365</td>\n",
       "      <td>True</td>\n",
       "      <td>cocker_spaniel</td>\n",
       "      <td>0.059845</td>\n",
       "      <td>True</td>\n",
       "    </tr>\n",
       "    <tr>\n",
       "      <th>1724</th>\n",
       "      <td>819952236453363712</td>\n",
       "      <td>https://pbs.twimg.com/media/C2EONHNWQAUWxkP.jpg</td>\n",
       "      <td>1</td>\n",
       "      <td>American_Staffordshire_terrier</td>\n",
       "      <td>0.925505</td>\n",
       "      <td>True</td>\n",
       "      <td>Staffordshire_bullterrier</td>\n",
       "      <td>0.036221</td>\n",
       "      <td>True</td>\n",
       "      <td>Italian_greyhound</td>\n",
       "      <td>0.020412</td>\n",
       "      <td>True</td>\n",
       "    </tr>\n",
       "    <tr>\n",
       "      <th>279</th>\n",
       "      <td>671109016219725825</td>\n",
       "      <td>https://pbs.twimg.com/media/CVBCFkyU4AE2Wcr.jpg</td>\n",
       "      <td>1</td>\n",
       "      <td>basenji</td>\n",
       "      <td>0.855959</td>\n",
       "      <td>True</td>\n",
       "      <td>beagle</td>\n",
       "      <td>0.036723</td>\n",
       "      <td>True</td>\n",
       "      <td>toy_terrier</td>\n",
       "      <td>0.029258</td>\n",
       "      <td>True</td>\n",
       "    </tr>\n",
       "    <tr>\n",
       "      <th>1447</th>\n",
       "      <td>776088319444877312</td>\n",
       "      <td>https://pbs.twimg.com/media/CsU4NKkW8AUI5eG.jpg</td>\n",
       "      <td>3</td>\n",
       "      <td>web_site</td>\n",
       "      <td>0.999916</td>\n",
       "      <td>False</td>\n",
       "      <td>pug</td>\n",
       "      <td>0.000077</td>\n",
       "      <td>True</td>\n",
       "      <td>menu</td>\n",
       "      <td>0.000002</td>\n",
       "      <td>False</td>\n",
       "    </tr>\n",
       "    <tr>\n",
       "      <th>1180</th>\n",
       "      <td>738166403467907072</td>\n",
       "      <td>https://pbs.twimg.com/media/Cj5-aUQUgAAb43p.jpg</td>\n",
       "      <td>2</td>\n",
       "      <td>keeshond</td>\n",
       "      <td>0.878886</td>\n",
       "      <td>True</td>\n",
       "      <td>Norwegian_elkhound</td>\n",
       "      <td>0.086659</td>\n",
       "      <td>True</td>\n",
       "      <td>malamute</td>\n",
       "      <td>0.021280</td>\n",
       "      <td>True</td>\n",
       "    </tr>\n",
       "    <tr>\n",
       "      <th>1669</th>\n",
       "      <td>813066809284972545</td>\n",
       "      <td>https://pbs.twimg.com/media/C0iX8OOVEAEIpMC.jpg</td>\n",
       "      <td>1</td>\n",
       "      <td>toy_terrier</td>\n",
       "      <td>0.776400</td>\n",
       "      <td>True</td>\n",
       "      <td>Pembroke</td>\n",
       "      <td>0.115034</td>\n",
       "      <td>True</td>\n",
       "      <td>basenji</td>\n",
       "      <td>0.048873</td>\n",
       "      <td>True</td>\n",
       "    </tr>\n",
       "    <tr>\n",
       "      <th>1309</th>\n",
       "      <td>754011816964026368</td>\n",
       "      <td>https://pbs.twimg.com/media/CnbJuPoXEAAjcVF.jpg</td>\n",
       "      <td>1</td>\n",
       "      <td>French_bulldog</td>\n",
       "      <td>0.600985</td>\n",
       "      <td>True</td>\n",
       "      <td>Boston_bull</td>\n",
       "      <td>0.273176</td>\n",
       "      <td>True</td>\n",
       "      <td>boxer</td>\n",
       "      <td>0.056772</td>\n",
       "      <td>True</td>\n",
       "    </tr>\n",
       "  </tbody>\n",
       "</table>\n",
       "</div>"
      ],
      "text/plain": [
       "                tweet_id                                          jpg_url  \\\n",
       "403   673700254269775872  https://pbs.twimg.com/media/CVl2ydUWsAA1jD6.jpg   \n",
       "1159  733828123016450049  https://pbs.twimg.com/media/Ci8UxxcW0AYgHDh.jpg   \n",
       "743   687476254459715584  https://pbs.twimg.com/media/CYpoAZTWEAA6vDs.jpg   \n",
       "1470  779123168116150273  https://pbs.twimg.com/media/CtAAYizW8AAWzBZ.jpg   \n",
       "1724  819952236453363712  https://pbs.twimg.com/media/C2EONHNWQAUWxkP.jpg   \n",
       "279   671109016219725825  https://pbs.twimg.com/media/CVBCFkyU4AE2Wcr.jpg   \n",
       "1447  776088319444877312  https://pbs.twimg.com/media/CsU4NKkW8AUI5eG.jpg   \n",
       "1180  738166403467907072  https://pbs.twimg.com/media/Cj5-aUQUgAAb43p.jpg   \n",
       "1669  813066809284972545  https://pbs.twimg.com/media/C0iX8OOVEAEIpMC.jpg   \n",
       "1309  754011816964026368  https://pbs.twimg.com/media/CnbJuPoXEAAjcVF.jpg   \n",
       "\n",
       "      img_num                              p1   p1_conf  p1_dog  \\\n",
       "403         1                    water_bottle  0.614536   False   \n",
       "1159        2                          beagle  0.472324    True   \n",
       "743         1                     wood_rabbit  0.702725   False   \n",
       "1470        1                      toy_poodle  0.431080    True   \n",
       "1724        1  American_Staffordshire_terrier  0.925505    True   \n",
       "279         1                         basenji  0.855959    True   \n",
       "1447        3                        web_site  0.999916   False   \n",
       "1180        2                        keeshond  0.878886    True   \n",
       "1669        1                     toy_terrier  0.776400    True   \n",
       "1309        1                  French_bulldog  0.600985    True   \n",
       "\n",
       "                               p2   p2_conf  p2_dog                 p3  \\\n",
       "403                        ashcan  0.050911   False             bucket   \n",
       "1159                 Walker_hound  0.121779    True      Saint_Bernard   \n",
       "743                        Angora  0.190659   False               hare   \n",
       "1470  soft-coated_wheaten_terrier  0.060365    True     cocker_spaniel   \n",
       "1724    Staffordshire_bullterrier  0.036221    True  Italian_greyhound   \n",
       "279                        beagle  0.036723    True        toy_terrier   \n",
       "1447                          pug  0.000077    True               menu   \n",
       "1180           Norwegian_elkhound  0.086659    True           malamute   \n",
       "1669                     Pembroke  0.115034    True            basenji   \n",
       "1309                  Boston_bull  0.273176    True              boxer   \n",
       "\n",
       "       p3_conf  p3_dog  \n",
       "403   0.037432   False  \n",
       "1159  0.114640    True  \n",
       "743   0.105072   False  \n",
       "1470  0.059845    True  \n",
       "1724  0.020412    True  \n",
       "279   0.029258    True  \n",
       "1447  0.000002   False  \n",
       "1180  0.021280    True  \n",
       "1669  0.048873    True  \n",
       "1309  0.056772    True  "
      ]
     },
     "execution_count": 7,
     "metadata": {},
     "output_type": "execute_result"
    }
   ],
   "source": [
    "twitt_img_pred.sample(10)"
   ]
  },
  {
   "cell_type": "code",
   "execution_count": 8,
   "id": "c21e693b",
   "metadata": {},
   "outputs": [
    {
     "name": "stdout",
     "output_type": "stream",
     "text": [
      "<class 'pandas.core.frame.DataFrame'>\n",
      "RangeIndex: 2075 entries, 0 to 2074\n",
      "Data columns (total 12 columns):\n",
      " #   Column    Non-Null Count  Dtype  \n",
      "---  ------    --------------  -----  \n",
      " 0   tweet_id  2075 non-null   int64  \n",
      " 1   jpg_url   2075 non-null   object \n",
      " 2   img_num   2075 non-null   int64  \n",
      " 3   p1        2075 non-null   object \n",
      " 4   p1_conf   2075 non-null   float64\n",
      " 5   p1_dog    2075 non-null   bool   \n",
      " 6   p2        2075 non-null   object \n",
      " 7   p2_conf   2075 non-null   float64\n",
      " 8   p2_dog    2075 non-null   bool   \n",
      " 9   p3        2075 non-null   object \n",
      " 10  p3_conf   2075 non-null   float64\n",
      " 11  p3_dog    2075 non-null   bool   \n",
      "dtypes: bool(3), float64(3), int64(2), object(4)\n",
      "memory usage: 152.1+ KB\n"
     ]
    }
   ],
   "source": [
    "twitt_img_pred.info()"
   ]
  },
  {
   "cell_type": "markdown",
   "id": "8b18a293",
   "metadata": {},
   "source": [
    "### quality issues\n",
    " \n",
    "1. (twitter_archive_df) in_reply_to_status_id, in_reply_to_user_id datatype falls either integer or string.\n",
    "2. (twitter_archive_df) source column is html tagged which is not readble.\n",
    "3. (twitter_archive_df) timestamp, retweeted_status_timestamp should be converted to datetime format insted of object.\n",
    "4. (twutter_archive_df) rating numerator and rating denominator has invalid values.\n",
    "5. (twitter_archive_df) name entry in name column could be invalid (e.g a, an, mo is not vaid names if it is not tranlated from chinise)\n",
    "6. (twitter_archive_df) in_reply_to_status_id, in_reply_to_user_id, retweeted_status_id, retweeted_status_user_id, retweeted_status_timestamp, expanded_urls has some missing values.\n",
    "7. (twitter_img_pred) There are (2356-2075=281) missing values in image datsets.\n",
    "8. (twitter_img_pred) Duplicate tweets has been found on several tweet ids which is actually retweets.\n"
   ]
  },
  {
   "cell_type": "markdown",
   "id": "48289e96",
   "metadata": {},
   "source": []
  },
  {
   "cell_type": "code",
   "execution_count": 9,
   "id": "65c969bb",
   "metadata": {},
   "outputs": [
    {
     "data": {
      "text/plain": [
       "2356"
      ]
     },
     "execution_count": 9,
     "metadata": {},
     "output_type": "execute_result"
    }
   ],
   "source": [
    "twitter_archive.source.value_counts().sum()"
   ]
  },
  {
   "cell_type": "code",
   "execution_count": 10,
   "id": "92761a47",
   "metadata": {},
   "outputs": [
    {
     "data": {
      "text/plain": [
       "tweet_id                      False\n",
       "in_reply_to_status_id          True\n",
       "in_reply_to_user_id            True\n",
       "timestamp                     False\n",
       "source                        False\n",
       "text                          False\n",
       "retweeted_status_id            True\n",
       "retweeted_status_user_id       True\n",
       "retweeted_status_timestamp     True\n",
       "expanded_urls                  True\n",
       "rating_numerator              False\n",
       "rating_denominator            False\n",
       "name                          False\n",
       "doggo                         False\n",
       "floofer                       False\n",
       "pupper                        False\n",
       "puppo                         False\n",
       "dtype: bool"
      ]
     },
     "execution_count": 10,
     "metadata": {},
     "output_type": "execute_result"
    }
   ],
   "source": [
    "#missing data\n",
    "twitter_archive.isna().any()"
   ]
  },
  {
   "cell_type": "code",
   "execution_count": 11,
   "id": "94896351",
   "metadata": {},
   "outputs": [
    {
     "data": {
      "text/plain": [
       "188      420\n",
       "189      666\n",
       "290      182\n",
       "313      960\n",
       "340       75\n",
       "433       84\n",
       "695       75\n",
       "763       27\n",
       "902      165\n",
       "979     1776\n",
       "1120     204\n",
       "1202      50\n",
       "1228      99\n",
       "1254      80\n",
       "1274      45\n",
       "1351      60\n",
       "1433      44\n",
       "1634     143\n",
       "1635     121\n",
       "1712      26\n",
       "1779     144\n",
       "1843      88\n",
       "2074     420\n",
       "Name: rating_numerator, dtype: int64"
      ]
     },
     "execution_count": 11,
     "metadata": {},
     "output_type": "execute_result"
    }
   ],
   "source": [
    "#inavlid nominator and denominator values\n",
    "twitter_archive['rating_numerator'][twitter_archive['rating_numerator'] >25]"
   ]
  },
  {
   "cell_type": "code",
   "execution_count": 12,
   "id": "743d9a55",
   "metadata": {},
   "outputs": [
    {
     "data": {
      "text/plain": [
       "433      70\n",
       "902     150\n",
       "1120    170\n",
       "1202     50\n",
       "1228     90\n",
       "1254     80\n",
       "1274     50\n",
       "1351     50\n",
       "1433     40\n",
       "1634    130\n",
       "1635    110\n",
       "1779    120\n",
       "1843     80\n",
       "Name: rating_denominator, dtype: int64"
      ]
     },
     "execution_count": 12,
     "metadata": {},
     "output_type": "execute_result"
    }
   ],
   "source": [
    "#inavlid nominator and denominator values\n",
    "twitter_archive['rating_denominator'][twitter_archive['rating_denominator'] >25]"
   ]
  },
  {
   "cell_type": "code",
   "execution_count": 13,
   "id": "3967d387",
   "metadata": {},
   "outputs": [
    {
     "data": {
      "text/plain": [
       "https://pbs.twimg.com/media/CvaYgDOWgAEfjls.jpg    2\n",
       "https://pbs.twimg.com/media/CsGnz64WYAEIDHJ.jpg    2\n",
       "https://pbs.twimg.com/media/CsrjryzWgAAZY00.jpg    2\n",
       "https://pbs.twimg.com/media/Co-hmcYXYAASkiG.jpg    2\n",
       "https://pbs.twimg.com/media/CUN4Or5UAAAa5K4.jpg    2\n",
       "                                                  ..\n",
       "https://pbs.twimg.com/media/Cb78-nOWIAENNRc.jpg    1\n",
       "https://pbs.twimg.com/media/CXh5_dDWQAIbU-J.jpg    1\n",
       "https://pbs.twimg.com/media/C2d_vnHWEAE9phX.jpg    1\n",
       "https://pbs.twimg.com/media/CUntin8WIAADmLk.jpg    1\n",
       "https://pbs.twimg.com/media/CzaY5UdUoAAC91S.jpg    1\n",
       "Name: jpg_url, Length: 2009, dtype: int64"
      ]
     },
     "execution_count": 13,
     "metadata": {},
     "output_type": "execute_result"
    }
   ],
   "source": [
    "#duplicate tweets\n",
    "twitt_img_pred['jpg_url'].value_counts()"
   ]
  },
  {
   "cell_type": "code",
   "execution_count": 14,
   "id": "70feae7f",
   "metadata": {},
   "outputs": [
    {
     "data": {
      "text/plain": [
       "56       a\n",
       "393     Mo\n",
       "446     Bo\n",
       "449     Bo\n",
       "553     Bo\n",
       "        ..\n",
       "2349    an\n",
       "2350     a\n",
       "2352     a\n",
       "2353     a\n",
       "2354     a\n",
       "Name: name, Length: 79, dtype: object"
      ]
     },
     "execution_count": 14,
     "metadata": {},
     "output_type": "execute_result"
    }
   ],
   "source": [
    "# invalid names\n",
    "twitter_archive['name'][twitter_archive['name'].apply(len) <=2]"
   ]
  },
  {
   "cell_type": "markdown",
   "id": "797f42ff",
   "metadata": {},
   "source": [
    "# Tidiness\n",
    "1. dog breeds could be stacked into one coulmn rather than in multiple columns\n",
    "2. unnessary columns which could mege into one column for predictions"
   ]
  },
  {
   "cell_type": "markdown",
   "id": "a295b632",
   "metadata": {},
   "source": [
    "# Cleaning"
   ]
  },
  {
   "cell_type": "code",
   "execution_count": 18,
   "id": "8a3bbff1",
   "metadata": {
    "scrolled": true
   },
   "outputs": [],
   "source": [
    "\n",
    "#copying all theree datasets\n",
    "twitter_archive_clean = twitter_archive.copy()\n",
    "twitt_img_pred_clean = twitt_img_pred.copy()\n",
    "tweets_data_clean = tweets_data.copy()\n"
   ]
  },
  {
   "cell_type": "markdown",
   "id": "cbe70254",
   "metadata": {},
   "source": [
    "### Define: merging all three dataframe into one dataframe"
   ]
  },
  {
   "cell_type": "markdown",
   "id": "7dd87103",
   "metadata": {},
   "source": [
    "### Code"
   ]
  },
  {
   "cell_type": "code",
   "execution_count": 19,
   "id": "444a32bb",
   "metadata": {},
   "outputs": [],
   "source": [
    "df_twitter = (pd.merge(left = twitter_archive_clean, right = tweets_data_clean, \n",
    "                      left_on = 'tweet_id', right_on = 'tweet_id',\n",
    "                     how = 'inner')).merge(twitt_img_pred_clean, on = 'tweet_id', how = 'inner')"
   ]
  },
  {
   "cell_type": "markdown",
   "id": "65882bc1",
   "metadata": {},
   "source": [
    "### Test"
   ]
  },
  {
   "cell_type": "code",
   "execution_count": 20,
   "id": "4906d001",
   "metadata": {
    "scrolled": true
   },
   "outputs": [
    {
     "name": "stdout",
     "output_type": "stream",
     "text": [
      "<class 'pandas.core.frame.DataFrame'>\n",
      "Int64Index: 2057 entries, 0 to 2056\n",
      "Data columns (total 31 columns):\n",
      " #   Column                      Non-Null Count  Dtype  \n",
      "---  ------                      --------------  -----  \n",
      " 0   tweet_id                    2057 non-null   int64  \n",
      " 1   in_reply_to_status_id       23 non-null     float64\n",
      " 2   in_reply_to_user_id         23 non-null     float64\n",
      " 3   timestamp                   2057 non-null   object \n",
      " 4   source                      2057 non-null   object \n",
      " 5   text                        2057 non-null   object \n",
      " 6   retweeted_status_id         71 non-null     float64\n",
      " 7   retweeted_status_user_id    71 non-null     float64\n",
      " 8   retweeted_status_timestamp  71 non-null     object \n",
      " 9   expanded_urls               2057 non-null   object \n",
      " 10  rating_numerator            2057 non-null   int64  \n",
      " 11  rating_denominator          2057 non-null   int64  \n",
      " 12  name                        2057 non-null   object \n",
      " 13  doggo                       2057 non-null   object \n",
      " 14  floofer                     2057 non-null   object \n",
      " 15  pupper                      2057 non-null   object \n",
      " 16  puppo                       2057 non-null   object \n",
      " 17  Unnamed: 0                  2057 non-null   int64  \n",
      " 18  favorites                   2057 non-null   int64  \n",
      " 19  retweets                    2057 non-null   int64  \n",
      " 20  jpg_url                     2057 non-null   object \n",
      " 21  img_num                     2057 non-null   int64  \n",
      " 22  p1                          2057 non-null   object \n",
      " 23  p1_conf                     2057 non-null   float64\n",
      " 24  p1_dog                      2057 non-null   bool   \n",
      " 25  p2                          2057 non-null   object \n",
      " 26  p2_conf                     2057 non-null   float64\n",
      " 27  p2_dog                      2057 non-null   bool   \n",
      " 28  p3                          2057 non-null   object \n",
      " 29  p3_conf                     2057 non-null   float64\n",
      " 30  p3_dog                      2057 non-null   bool   \n",
      "dtypes: bool(3), float64(7), int64(7), object(14)\n",
      "memory usage: 472.1+ KB\n"
     ]
    }
   ],
   "source": [
    "df_twitter.info()"
   ]
  },
  {
   "cell_type": "markdown",
   "id": "e55fc240",
   "metadata": {},
   "source": [
    "### Define: Stacking dog stages into one column"
   ]
  },
  {
   "cell_type": "markdown",
   "id": "99cf7e23",
   "metadata": {},
   "source": [
    "### Code"
   ]
  },
  {
   "cell_type": "code",
   "execution_count": 21,
   "id": "b3ad0662",
   "metadata": {
    "scrolled": true
   },
   "outputs": [
    {
     "data": {
      "text/html": [
       "<div>\n",
       "<style scoped>\n",
       "    .dataframe tbody tr th:only-of-type {\n",
       "        vertical-align: middle;\n",
       "    }\n",
       "\n",
       "    .dataframe tbody tr th {\n",
       "        vertical-align: top;\n",
       "    }\n",
       "\n",
       "    .dataframe thead th {\n",
       "        text-align: right;\n",
       "    }\n",
       "</style>\n",
       "<table border=\"1\" class=\"dataframe\">\n",
       "  <thead>\n",
       "    <tr style=\"text-align: right;\">\n",
       "      <th></th>\n",
       "      <th>doggo</th>\n",
       "      <th>floofer</th>\n",
       "      <th>pupper</th>\n",
       "      <th>puppo</th>\n",
       "      <th>0</th>\n",
       "    </tr>\n",
       "  </thead>\n",
       "  <tbody>\n",
       "    <tr>\n",
       "      <th>0</th>\n",
       "      <td>None</td>\n",
       "      <td>None</td>\n",
       "      <td>None</td>\n",
       "      <td>None</td>\n",
       "      <td>1739</td>\n",
       "    </tr>\n",
       "    <tr>\n",
       "      <th>1</th>\n",
       "      <td>None</td>\n",
       "      <td>None</td>\n",
       "      <td>None</td>\n",
       "      <td>puppo</td>\n",
       "      <td>23</td>\n",
       "    </tr>\n",
       "    <tr>\n",
       "      <th>2</th>\n",
       "      <td>None</td>\n",
       "      <td>None</td>\n",
       "      <td>pupper</td>\n",
       "      <td>None</td>\n",
       "      <td>210</td>\n",
       "    </tr>\n",
       "    <tr>\n",
       "      <th>3</th>\n",
       "      <td>None</td>\n",
       "      <td>floofer</td>\n",
       "      <td>None</td>\n",
       "      <td>None</td>\n",
       "      <td>7</td>\n",
       "    </tr>\n",
       "    <tr>\n",
       "      <th>4</th>\n",
       "      <td>doggo</td>\n",
       "      <td>None</td>\n",
       "      <td>None</td>\n",
       "      <td>None</td>\n",
       "      <td>65</td>\n",
       "    </tr>\n",
       "    <tr>\n",
       "      <th>5</th>\n",
       "      <td>doggo</td>\n",
       "      <td>None</td>\n",
       "      <td>None</td>\n",
       "      <td>puppo</td>\n",
       "      <td>1</td>\n",
       "    </tr>\n",
       "    <tr>\n",
       "      <th>6</th>\n",
       "      <td>doggo</td>\n",
       "      <td>None</td>\n",
       "      <td>pupper</td>\n",
       "      <td>None</td>\n",
       "      <td>11</td>\n",
       "    </tr>\n",
       "    <tr>\n",
       "      <th>7</th>\n",
       "      <td>doggo</td>\n",
       "      <td>floofer</td>\n",
       "      <td>None</td>\n",
       "      <td>None</td>\n",
       "      <td>1</td>\n",
       "    </tr>\n",
       "  </tbody>\n",
       "</table>\n",
       "</div>"
      ],
      "text/plain": [
       "   doggo  floofer  pupper  puppo     0\n",
       "0   None     None    None   None  1739\n",
       "1   None     None    None  puppo    23\n",
       "2   None     None  pupper   None   210\n",
       "3   None  floofer    None   None     7\n",
       "4  doggo     None    None   None    65\n",
       "5  doggo     None    None  puppo     1\n",
       "6  doggo     None  pupper   None    11\n",
       "7  doggo  floofer    None   None     1"
      ]
     },
     "execution_count": 21,
     "metadata": {},
     "output_type": "execute_result"
    }
   ],
   "source": [
    "# concating all dogs which has multiple stages\n",
    "df_twitter.groupby(['doggo', 'floofer', 'pupper', 'puppo'])[['doggo', 'floofer', 'pupper', 'puppo']].size().reset_index()"
   ]
  },
  {
   "cell_type": "code",
   "execution_count": 22,
   "id": "a0fe17e1",
   "metadata": {},
   "outputs": [],
   "source": [
    "# stacking into all dog stage column into one column\n",
    "dog_cols = ['doggo', 'floofer', 'pupper', 'puppo']\n",
    "df_twitter = df_twitter.replace('None','')\n",
    "df_twitter['stage'] = df_twitter[dog_cols].apply(lambda row: ''.join(row.values.astype(str)), axis=1)\n",
    "df_twitter['stage']=df_twitter['stage'].replace('', 'None')"
   ]
  },
  {
   "cell_type": "code",
   "execution_count": 23,
   "id": "c97075c7",
   "metadata": {
    "scrolled": false
   },
   "outputs": [
    {
     "data": {
      "text/plain": [
       "None            1739\n",
       "pupper           210\n",
       "doggo             65\n",
       "puppo             23\n",
       "doggopupper       11\n",
       "floofer            7\n",
       "doggopuppo         1\n",
       "doggofloofer       1\n",
       "Name: stage, dtype: int64"
      ]
     },
     "execution_count": 23,
     "metadata": {},
     "output_type": "execute_result"
    }
   ],
   "source": [
    "#Test \n",
    "df_twitter['stage'].value_counts()"
   ]
  },
  {
   "cell_type": "markdown",
   "id": "0143b6a7",
   "metadata": {},
   "source": [
    "# Define: Delete unnecessary coulumns and rows "
   ]
  },
  {
   "cell_type": "code",
   "execution_count": 24,
   "id": "ce5136bc",
   "metadata": {
    "scrolled": false
   },
   "outputs": [],
   "source": [
    "#df_twitter.columns"
   ]
  },
  {
   "cell_type": "markdown",
   "id": "df241570",
   "metadata": {},
   "source": [
    "### Code"
   ]
  },
  {
   "cell_type": "code",
   "execution_count": 25,
   "id": "452e97e4",
   "metadata": {},
   "outputs": [],
   "source": [
    "# removing unnecessary rows\n",
    "df_twitter = df_twitter[pd.isnull(df_twitter['retweeted_status_id'])].reset_index(drop=True) # when you re-run this cell please make sure you have reset your df_twitter\n",
    "\n",
    "#removing unnecessary columns\n",
    "drop_columns = ['retweeted_status_id', 'retweeted_status_user_id', 'retweeted_status_timestamp', 'Unnamed: 0', 'img_num','expanded_urls']\n",
    "df_twitter = df_twitter.drop(drop_columns, axis = 1)\n",
    "\n",
    "\n"
   ]
  },
  {
   "cell_type": "markdown",
   "id": "5e7ab763",
   "metadata": {},
   "source": [
    "### Test "
   ]
  },
  {
   "cell_type": "code",
   "execution_count": 26,
   "id": "d01f56df",
   "metadata": {},
   "outputs": [
    {
     "name": "stdout",
     "output_type": "stream",
     "text": [
      "<class 'pandas.core.frame.DataFrame'>\n",
      "RangeIndex: 1986 entries, 0 to 1985\n",
      "Data columns (total 26 columns):\n",
      " #   Column                 Non-Null Count  Dtype  \n",
      "---  ------                 --------------  -----  \n",
      " 0   tweet_id               1986 non-null   int64  \n",
      " 1   in_reply_to_status_id  23 non-null     float64\n",
      " 2   in_reply_to_user_id    23 non-null     float64\n",
      " 3   timestamp              1986 non-null   object \n",
      " 4   source                 1986 non-null   object \n",
      " 5   text                   1986 non-null   object \n",
      " 6   rating_numerator       1986 non-null   int64  \n",
      " 7   rating_denominator     1986 non-null   int64  \n",
      " 8   name                   1986 non-null   object \n",
      " 9   doggo                  1986 non-null   object \n",
      " 10  floofer                1986 non-null   object \n",
      " 11  pupper                 1986 non-null   object \n",
      " 12  puppo                  1986 non-null   object \n",
      " 13  favorites              1986 non-null   int64  \n",
      " 14  retweets               1986 non-null   int64  \n",
      " 15  jpg_url                1986 non-null   object \n",
      " 16  p1                     1986 non-null   object \n",
      " 17  p1_conf                1986 non-null   float64\n",
      " 18  p1_dog                 1986 non-null   bool   \n",
      " 19  p2                     1986 non-null   object \n",
      " 20  p2_conf                1986 non-null   float64\n",
      " 21  p2_dog                 1986 non-null   bool   \n",
      " 22  p3                     1986 non-null   object \n",
      " 23  p3_conf                1986 non-null   float64\n",
      " 24  p3_dog                 1986 non-null   bool   \n",
      " 25  stage                  1986 non-null   object \n",
      "dtypes: bool(3), float64(5), int64(5), object(13)\n",
      "memory usage: 362.8+ KB\n"
     ]
    }
   ],
   "source": [
    "#f_twitter.head()\n",
    "df_twitter.info()"
   ]
  },
  {
   "cell_type": "code",
   "execution_count": 27,
   "id": "3a953a11",
   "metadata": {
    "scrolled": true
   },
   "outputs": [
    {
     "name": "stdout",
     "output_type": "stream",
     "text": [
      "<class 'pandas.core.frame.DataFrame'>\n",
      "RangeIndex: 1986 entries, 0 to 1985\n",
      "Data columns (total 26 columns):\n",
      " #   Column                 Non-Null Count  Dtype  \n",
      "---  ------                 --------------  -----  \n",
      " 0   tweet_id               1986 non-null   int64  \n",
      " 1   in_reply_to_status_id  23 non-null     float64\n",
      " 2   in_reply_to_user_id    23 non-null     float64\n",
      " 3   timestamp              1986 non-null   object \n",
      " 4   source                 1986 non-null   object \n",
      " 5   text                   1986 non-null   object \n",
      " 6   rating_numerator       1986 non-null   int64  \n",
      " 7   rating_denominator     1986 non-null   int64  \n",
      " 8   name                   1986 non-null   object \n",
      " 9   doggo                  1986 non-null   object \n",
      " 10  floofer                1986 non-null   object \n",
      " 11  pupper                 1986 non-null   object \n",
      " 12  puppo                  1986 non-null   object \n",
      " 13  favorites              1986 non-null   int64  \n",
      " 14  retweets               1986 non-null   int64  \n",
      " 15  jpg_url                1986 non-null   object \n",
      " 16  p1                     1986 non-null   object \n",
      " 17  p1_conf                1986 non-null   float64\n",
      " 18  p1_dog                 1986 non-null   bool   \n",
      " 19  p2                     1986 non-null   object \n",
      " 20  p2_conf                1986 non-null   float64\n",
      " 21  p2_dog                 1986 non-null   bool   \n",
      " 22  p3                     1986 non-null   object \n",
      " 23  p3_conf                1986 non-null   float64\n",
      " 24  p3_dog                 1986 non-null   bool   \n",
      " 25  stage                  1986 non-null   object \n",
      "dtypes: bool(3), float64(5), int64(5), object(13)\n",
      "memory usage: 362.8+ KB\n"
     ]
    }
   ],
   "source": [
    "#test\n",
    "df_twitter.info()"
   ]
  },
  {
   "cell_type": "markdown",
   "id": "a857f1f0",
   "metadata": {},
   "source": [
    "### Define: formating columns into necessary format"
   ]
  },
  {
   "cell_type": "markdown",
   "id": "e49b253d",
   "metadata": {},
   "source": [
    "### Code"
   ]
  },
  {
   "cell_type": "code",
   "execution_count": 28,
   "id": "a1b98da9",
   "metadata": {
    "scrolled": true
   },
   "outputs": [],
   "source": [
    "# removing time zone from timestamp\n",
    "df_twitter['timestamp']= df_twitter['timestamp'].str.slice(start = 0, stop = -6)\n",
    "# change into date time object\n",
    "df_twitter['timestamp'] = pd.to_datetime(df_twitter['timestamp'], format = \"%Y-%m-%d %H:%M:%S\")"
   ]
  },
  {
   "cell_type": "markdown",
   "id": "3e849a79",
   "metadata": {},
   "source": [
    "### Test "
   ]
  },
  {
   "cell_type": "code",
   "execution_count": 29,
   "id": "be058b44",
   "metadata": {},
   "outputs": [
    {
     "name": "stdout",
     "output_type": "stream",
     "text": [
      "<class 'pandas.core.frame.DataFrame'>\n",
      "RangeIndex: 1986 entries, 0 to 1985\n",
      "Data columns (total 26 columns):\n",
      " #   Column                 Non-Null Count  Dtype         \n",
      "---  ------                 --------------  -----         \n",
      " 0   tweet_id               1986 non-null   int64         \n",
      " 1   in_reply_to_status_id  23 non-null     float64       \n",
      " 2   in_reply_to_user_id    23 non-null     float64       \n",
      " 3   timestamp              1986 non-null   datetime64[ns]\n",
      " 4   source                 1986 non-null   object        \n",
      " 5   text                   1986 non-null   object        \n",
      " 6   rating_numerator       1986 non-null   int64         \n",
      " 7   rating_denominator     1986 non-null   int64         \n",
      " 8   name                   1986 non-null   object        \n",
      " 9   doggo                  1986 non-null   object        \n",
      " 10  floofer                1986 non-null   object        \n",
      " 11  pupper                 1986 non-null   object        \n",
      " 12  puppo                  1986 non-null   object        \n",
      " 13  favorites              1986 non-null   int64         \n",
      " 14  retweets               1986 non-null   int64         \n",
      " 15  jpg_url                1986 non-null   object        \n",
      " 16  p1                     1986 non-null   object        \n",
      " 17  p1_conf                1986 non-null   float64       \n",
      " 18  p1_dog                 1986 non-null   bool          \n",
      " 19  p2                     1986 non-null   object        \n",
      " 20  p2_conf                1986 non-null   float64       \n",
      " 21  p2_dog                 1986 non-null   bool          \n",
      " 22  p3                     1986 non-null   object        \n",
      " 23  p3_conf                1986 non-null   float64       \n",
      " 24  p3_dog                 1986 non-null   bool          \n",
      " 25  stage                  1986 non-null   object        \n",
      "dtypes: bool(3), datetime64[ns](1), float64(5), int64(5), object(12)\n",
      "memory usage: 362.8+ KB\n"
     ]
    }
   ],
   "source": [
    "df_twitter.info()"
   ]
  },
  {
   "cell_type": "markdown",
   "id": "ac86305a",
   "metadata": {},
   "source": [
    "### Define: dog rating standardization"
   ]
  },
  {
   "cell_type": "markdown",
   "id": "c6c37e87",
   "metadata": {},
   "source": [
    "### Code"
   ]
  },
  {
   "cell_type": "code",
   "execution_count": 30,
   "id": "7c584900",
   "metadata": {},
   "outputs": [],
   "source": [
    "#creating a new column named 'rating' for a new standard rating\n",
    "\n",
    "\n",
    "df_twitter['rating_numerator'] = df_twitter['rating_numerator'].astype(float)\n",
    "\n",
    "df_twitter['rating_denominator'] = df_twitter['rating_denominator'].astype(float)\n",
    "\n",
    "df_twitter['dog_rating'] = df_twitter['rating_numerator']/ df_twitter['rating_denominator']"
   ]
  },
  {
   "cell_type": "code",
   "execution_count": 31,
   "id": "6232913b",
   "metadata": {},
   "outputs": [
    {
     "data": {
      "text/plain": [
       "10.0     1968\n",
       "50.0        3\n",
       "80.0        2\n",
       "11.0        2\n",
       "150.0       1\n",
       "20.0        1\n",
       "70.0        1\n",
       "90.0        1\n",
       "170.0       1\n",
       "130.0       1\n",
       "40.0        1\n",
       "110.0       1\n",
       "2.0         1\n",
       "7.0         1\n",
       "120.0       1\n",
       "Name: rating_denominator, dtype: int64"
      ]
     },
     "execution_count": 31,
     "metadata": {},
     "output_type": "execute_result"
    }
   ],
   "source": [
    "df_twitter['rating_denominator'].value_counts()"
   ]
  },
  {
   "cell_type": "markdown",
   "id": "c975b63d",
   "metadata": {},
   "source": [
    "### Test"
   ]
  },
  {
   "cell_type": "code",
   "execution_count": 32,
   "id": "8007fd91",
   "metadata": {},
   "outputs": [
    {
     "data": {
      "text/plain": [
       "0       1.3\n",
       "1       1.3\n",
       "2       1.2\n",
       "3       1.3\n",
       "4       1.2\n",
       "       ... \n",
       "1981    0.5\n",
       "1982    0.6\n",
       "1983    0.9\n",
       "1984    0.7\n",
       "1985    0.8\n",
       "Name: dog_rating, Length: 1986, dtype: float64"
      ]
     },
     "execution_count": 32,
     "metadata": {},
     "output_type": "execute_result"
    }
   ],
   "source": [
    "df_twitter.dog_rating"
   ]
  },
  {
   "cell_type": "markdown",
   "id": "b93a4d86",
   "metadata": {},
   "source": [
    "### Define: standardize image prediction values"
   ]
  },
  {
   "cell_type": "markdown",
   "id": "decbb02d",
   "metadata": {},
   "source": [
    "### Code"
   ]
  },
  {
   "cell_type": "code",
   "execution_count": 33,
   "id": "a52adea4",
   "metadata": {},
   "outputs": [],
   "source": [
    "# apapend the predition where confidence level has highest value\n",
    "predictions = []\n",
    "confidence_level = []\n",
    "\n",
    "def prediction(df):\n",
    "    if (df['p1_dog'] == True) & (df['p1_conf'] > df['p2_conf'] ) & (df['p1_conf'] > df['p3_conf'] ):\n",
    "        predictions.append(df['p1'])\n",
    "        confidence_level.append(df['p1_conf'])\n",
    "    elif (df['p2_dog'] == True) & (df['p2_conf'] > df['p1_conf'] ) & (df['p2_conf'] > df['p3_conf'] ):\n",
    "        predictions.append(df['p2'])\n",
    "        confidence_level.append(df['p2_conf'])\n",
    "    elif (df['p3_dog'] == True) & (df['p3_conf'] > df['p1_conf'] ) & (df['p3_conf'] > df['p1_conf'] ):\n",
    "        predictions.append(df['p3'])\n",
    "        confidence_level.append(df['p3_conf'])\n",
    "    else:\n",
    "        predictions.append('NaN')\n",
    "        confidence_level.append(0)\n",
    "\n",
    "df_twitter.apply(prediction, axis=1)\n",
    "df_twitter['prediction'] = predictions\n",
    "df_twitter['confidence_level'] = confidence_level\n",
    "\n",
    "# deleting unnecessinry columns realted to prediction\n",
    "df_twitter= df_twitter.drop(['p1', 'p1_conf', 'p1_dog', 'p2', 'p2_conf','p2_dog', 'p3', 'p3_conf', 'p3_dog'], axis=1)"
   ]
  },
  {
   "cell_type": "markdown",
   "id": "ad209953",
   "metadata": {},
   "source": [
    "### Test"
   ]
  },
  {
   "cell_type": "code",
   "execution_count": 34,
   "id": "3279f11f",
   "metadata": {
    "scrolled": true
   },
   "outputs": [
    {
     "data": {
      "text/html": [
       "<div>\n",
       "<style scoped>\n",
       "    .dataframe tbody tr th:only-of-type {\n",
       "        vertical-align: middle;\n",
       "    }\n",
       "\n",
       "    .dataframe tbody tr th {\n",
       "        vertical-align: top;\n",
       "    }\n",
       "\n",
       "    .dataframe thead th {\n",
       "        text-align: right;\n",
       "    }\n",
       "</style>\n",
       "<table border=\"1\" class=\"dataframe\">\n",
       "  <thead>\n",
       "    <tr style=\"text-align: right;\">\n",
       "      <th></th>\n",
       "      <th>tweet_id</th>\n",
       "      <th>in_reply_to_status_id</th>\n",
       "      <th>in_reply_to_user_id</th>\n",
       "      <th>timestamp</th>\n",
       "      <th>source</th>\n",
       "      <th>text</th>\n",
       "      <th>rating_numerator</th>\n",
       "      <th>rating_denominator</th>\n",
       "      <th>name</th>\n",
       "      <th>doggo</th>\n",
       "      <th>floofer</th>\n",
       "      <th>pupper</th>\n",
       "      <th>puppo</th>\n",
       "      <th>favorites</th>\n",
       "      <th>retweets</th>\n",
       "      <th>jpg_url</th>\n",
       "      <th>stage</th>\n",
       "      <th>dog_rating</th>\n",
       "      <th>prediction</th>\n",
       "      <th>confidence_level</th>\n",
       "    </tr>\n",
       "  </thead>\n",
       "  <tbody>\n",
       "    <tr>\n",
       "      <th>0</th>\n",
       "      <td>892420643555336193</td>\n",
       "      <td>NaN</td>\n",
       "      <td>NaN</td>\n",
       "      <td>2017-08-01 16:23:56</td>\n",
       "      <td>&lt;a href=\"http://twitter.com/download/iphone\" r...</td>\n",
       "      <td>This is Phineas. He's a mystical boy. Only eve...</td>\n",
       "      <td>13.0</td>\n",
       "      <td>10.0</td>\n",
       "      <td>Phineas</td>\n",
       "      <td></td>\n",
       "      <td></td>\n",
       "      <td></td>\n",
       "      <td></td>\n",
       "      <td>33858</td>\n",
       "      <td>7023</td>\n",
       "      <td>https://pbs.twimg.com/media/DGKD1-bXoAAIAUK.jpg</td>\n",
       "      <td>None</td>\n",
       "      <td>1.3</td>\n",
       "      <td>NaN</td>\n",
       "      <td>0.000000</td>\n",
       "    </tr>\n",
       "    <tr>\n",
       "      <th>1</th>\n",
       "      <td>892177421306343426</td>\n",
       "      <td>NaN</td>\n",
       "      <td>NaN</td>\n",
       "      <td>2017-08-01 00:17:27</td>\n",
       "      <td>&lt;a href=\"http://twitter.com/download/iphone\" r...</td>\n",
       "      <td>This is Tilly. She's just checking pup on you....</td>\n",
       "      <td>13.0</td>\n",
       "      <td>10.0</td>\n",
       "      <td>Tilly</td>\n",
       "      <td></td>\n",
       "      <td></td>\n",
       "      <td></td>\n",
       "      <td></td>\n",
       "      <td>29360</td>\n",
       "      <td>5304</td>\n",
       "      <td>https://pbs.twimg.com/media/DGGmoV4XsAAUL6n.jpg</td>\n",
       "      <td>None</td>\n",
       "      <td>1.3</td>\n",
       "      <td>Chihuahua</td>\n",
       "      <td>0.323581</td>\n",
       "    </tr>\n",
       "    <tr>\n",
       "      <th>2</th>\n",
       "      <td>891815181378084864</td>\n",
       "      <td>NaN</td>\n",
       "      <td>NaN</td>\n",
       "      <td>2017-07-31 00:18:03</td>\n",
       "      <td>&lt;a href=\"http://twitter.com/download/iphone\" r...</td>\n",
       "      <td>This is Archie. He is a rare Norwegian Pouncin...</td>\n",
       "      <td>12.0</td>\n",
       "      <td>10.0</td>\n",
       "      <td>Archie</td>\n",
       "      <td></td>\n",
       "      <td></td>\n",
       "      <td></td>\n",
       "      <td></td>\n",
       "      <td>22081</td>\n",
       "      <td>3487</td>\n",
       "      <td>https://pbs.twimg.com/media/DGBdLU1WsAANxJ9.jpg</td>\n",
       "      <td>None</td>\n",
       "      <td>1.2</td>\n",
       "      <td>Chihuahua</td>\n",
       "      <td>0.716012</td>\n",
       "    </tr>\n",
       "    <tr>\n",
       "      <th>3</th>\n",
       "      <td>891689557279858688</td>\n",
       "      <td>NaN</td>\n",
       "      <td>NaN</td>\n",
       "      <td>2017-07-30 15:58:51</td>\n",
       "      <td>&lt;a href=\"http://twitter.com/download/iphone\" r...</td>\n",
       "      <td>This is Darla. She commenced a snooze mid meal...</td>\n",
       "      <td>13.0</td>\n",
       "      <td>10.0</td>\n",
       "      <td>Darla</td>\n",
       "      <td></td>\n",
       "      <td></td>\n",
       "      <td></td>\n",
       "      <td></td>\n",
       "      <td>36981</td>\n",
       "      <td>7236</td>\n",
       "      <td>https://pbs.twimg.com/media/DF_q7IAWsAEuuN8.jpg</td>\n",
       "      <td>None</td>\n",
       "      <td>1.3</td>\n",
       "      <td>NaN</td>\n",
       "      <td>0.000000</td>\n",
       "    </tr>\n",
       "    <tr>\n",
       "      <th>4</th>\n",
       "      <td>891327558926688256</td>\n",
       "      <td>NaN</td>\n",
       "      <td>NaN</td>\n",
       "      <td>2017-07-29 16:00:24</td>\n",
       "      <td>&lt;a href=\"http://twitter.com/download/iphone\" r...</td>\n",
       "      <td>This is Franklin. He would like you to stop ca...</td>\n",
       "      <td>12.0</td>\n",
       "      <td>10.0</td>\n",
       "      <td>Franklin</td>\n",
       "      <td></td>\n",
       "      <td></td>\n",
       "      <td></td>\n",
       "      <td></td>\n",
       "      <td>35357</td>\n",
       "      <td>7773</td>\n",
       "      <td>https://pbs.twimg.com/media/DF6hr6BUMAAzZgT.jpg</td>\n",
       "      <td>None</td>\n",
       "      <td>1.2</td>\n",
       "      <td>basset</td>\n",
       "      <td>0.555712</td>\n",
       "    </tr>\n",
       "  </tbody>\n",
       "</table>\n",
       "</div>"
      ],
      "text/plain": [
       "             tweet_id  in_reply_to_status_id  in_reply_to_user_id  \\\n",
       "0  892420643555336193                    NaN                  NaN   \n",
       "1  892177421306343426                    NaN                  NaN   \n",
       "2  891815181378084864                    NaN                  NaN   \n",
       "3  891689557279858688                    NaN                  NaN   \n",
       "4  891327558926688256                    NaN                  NaN   \n",
       "\n",
       "            timestamp                                             source  \\\n",
       "0 2017-08-01 16:23:56  <a href=\"http://twitter.com/download/iphone\" r...   \n",
       "1 2017-08-01 00:17:27  <a href=\"http://twitter.com/download/iphone\" r...   \n",
       "2 2017-07-31 00:18:03  <a href=\"http://twitter.com/download/iphone\" r...   \n",
       "3 2017-07-30 15:58:51  <a href=\"http://twitter.com/download/iphone\" r...   \n",
       "4 2017-07-29 16:00:24  <a href=\"http://twitter.com/download/iphone\" r...   \n",
       "\n",
       "                                                text  rating_numerator  \\\n",
       "0  This is Phineas. He's a mystical boy. Only eve...              13.0   \n",
       "1  This is Tilly. She's just checking pup on you....              13.0   \n",
       "2  This is Archie. He is a rare Norwegian Pouncin...              12.0   \n",
       "3  This is Darla. She commenced a snooze mid meal...              13.0   \n",
       "4  This is Franklin. He would like you to stop ca...              12.0   \n",
       "\n",
       "   rating_denominator      name doggo floofer pupper puppo  favorites  \\\n",
       "0                10.0   Phineas                                 33858   \n",
       "1                10.0     Tilly                                 29360   \n",
       "2                10.0    Archie                                 22081   \n",
       "3                10.0     Darla                                 36981   \n",
       "4                10.0  Franklin                                 35357   \n",
       "\n",
       "   retweets                                          jpg_url stage  \\\n",
       "0      7023  https://pbs.twimg.com/media/DGKD1-bXoAAIAUK.jpg  None   \n",
       "1      5304  https://pbs.twimg.com/media/DGGmoV4XsAAUL6n.jpg  None   \n",
       "2      3487  https://pbs.twimg.com/media/DGBdLU1WsAANxJ9.jpg  None   \n",
       "3      7236  https://pbs.twimg.com/media/DF_q7IAWsAEuuN8.jpg  None   \n",
       "4      7773  https://pbs.twimg.com/media/DF6hr6BUMAAzZgT.jpg  None   \n",
       "\n",
       "   dog_rating prediction  confidence_level  \n",
       "0         1.3        NaN          0.000000  \n",
       "1         1.3  Chihuahua          0.323581  \n",
       "2         1.2  Chihuahua          0.716012  \n",
       "3         1.3        NaN          0.000000  \n",
       "4         1.2     basset          0.555712  "
      ]
     },
     "execution_count": 34,
     "metadata": {},
     "output_type": "execute_result"
    }
   ],
   "source": [
    "df_twitter.head()"
   ]
  },
  {
   "cell_type": "markdown",
   "id": "5b9e0db4",
   "metadata": {},
   "source": [
    "### Define:  making source column  more readbale"
   ]
  },
  {
   "cell_type": "markdown",
   "id": "96889527",
   "metadata": {},
   "source": [
    "### code"
   ]
  },
  {
   "cell_type": "code",
   "execution_count": 35,
   "id": "dd1a8e70",
   "metadata": {},
   "outputs": [],
   "source": [
    "df_twitter['source'] = df_twitter['source'].apply(lambda x: re.findall(r'>(.*)<', x)[0])"
   ]
  },
  {
   "cell_type": "markdown",
   "id": "ff8cc1c2",
   "metadata": {},
   "source": [
    "### Test"
   ]
  },
  {
   "cell_type": "code",
   "execution_count": null,
   "id": "482b2bf2",
   "metadata": {
    "scrolled": true
   },
   "outputs": [],
   "source": [
    "df_twitter.info()"
   ]
  },
  {
   "cell_type": "markdown",
   "id": "d6f8a6cd",
   "metadata": {},
   "source": [
    "### Define: changing datatypyes for each column"
   ]
  },
  {
   "cell_type": "markdown",
   "id": "ccaaf6b4",
   "metadata": {},
   "source": [
    "### Code"
   ]
  },
  {
   "cell_type": "code",
   "execution_count": null,
   "id": "7c9c0b9a",
   "metadata": {},
   "outputs": [],
   "source": [
    "df_twitter['tweet_id'] = df_twitter['tweet_id'].astype(str)\n",
    "df_twitter['source'] = df_twitter['source'].astype('category')\n",
    "df_twitter['favorites'] = df_twitter['favorites'].astype(int)\n",
    "df_twitter['retweets'] = df_twitter['retweets'].astype(int)\n",
    "df_twitter['stage'] = df_twitter['stage'].astype('category')\n",
    "df_twitter['rating_numerator'] = df_twitter['rating_numerator'].astype(float)\n",
    "df_twitter['rating_denominator'] = df_twitter['tweet_id'].astype(float)\n",
    "df_twitter['dog_rating'] = df_twitter['dog_rating'].astype(float)\n"
   ]
  },
  {
   "cell_type": "markdown",
   "id": "79b235e0",
   "metadata": {},
   "source": [
    "### Test"
   ]
  },
  {
   "cell_type": "code",
   "execution_count": null,
   "id": "222f0fa3",
   "metadata": {},
   "outputs": [],
   "source": [
    "df_twitter.info()"
   ]
  },
  {
   "cell_type": "markdown",
   "id": "21ede9fb",
   "metadata": {},
   "source": [
    "# Storing "
   ]
  },
  {
   "cell_type": "code",
   "execution_count": null,
   "id": "dd52c57c",
   "metadata": {},
   "outputs": [],
   "source": [
    "df_twitter.to_csv('twitter_archive_master.csv', encoding = 'utf-8', index =False)"
   ]
  },
  {
   "cell_type": "markdown",
   "id": "5f7ef27d",
   "metadata": {},
   "source": [
    "### Analyzing and Visualizing Data"
   ]
  },
  {
   "cell_type": "code",
   "execution_count": null,
   "id": "83a6d97e",
   "metadata": {
    "scrolled": true
   },
   "outputs": [],
   "source": [
    "# reading data as datframe from stored file\n",
    "df = pd.read_csv('twitter_archive_master.csv')\n",
    "df.info()"
   ]
  },
  {
   "cell_type": "code",
   "execution_count": null,
   "id": "ce267f50",
   "metadata": {
    "scrolled": true
   },
   "outputs": [],
   "source": [
    "df.head()"
   ]
  },
  {
   "cell_type": "code",
   "execution_count": null,
   "id": "c7222fa0",
   "metadata": {},
   "outputs": [],
   "source": [
    "# changing datatypes for some columns\n",
    "df['tweet_id'] = df['tweet_id'].astype(str)\n",
    "df['source'] = df['source'].astype('category')\n",
    "df['favorites'] = df['favorites'].astype(int)\n",
    "df['retweets'] = df['retweets'].astype(int)\n",
    "df['stage'] = df['stage'].astype('category')\n",
    "df['rating_numerator'] = df['rating_numerator'].astype(float)\n",
    "df['rating_denominator'] = df['tweet_id'].astype(float)\n",
    "df['dog_rating'] = df['dog_rating'].astype(float)"
   ]
  },
  {
   "cell_type": "code",
   "execution_count": null,
   "id": "7373166a",
   "metadata": {
    "scrolled": true
   },
   "outputs": [],
   "source": [
    "#checking datatypes\n",
    "df.dtypes"
   ]
  },
  {
   "cell_type": "markdown",
   "id": "dd4bed89",
   "metadata": {},
   "source": [
    "## Most common dog stage"
   ]
  },
  {
   "cell_type": "code",
   "execution_count": null,
   "id": "30bafca3",
   "metadata": {},
   "outputs": [],
   "source": [
    "# extracting data\n",
    "data = df.groupby('stage')['stage'].count()[1:]\n",
    "\n",
    "# plotiing intferactive pie chat for exploring most common dog stage\n",
    "import plotly.express as px\n",
    "fig = px.pie(df, values=data,names = data.index, color_discrete_sequence=px.colors.diverging.Spectral, hole = .4)\n",
    "fig.show()"
   ]
  },
  {
   "cell_type": "markdown",
   "id": "74d08835",
   "metadata": {},
   "source": [
    "### it seems pupper is the most common dog"
   ]
  },
  {
   "cell_type": "markdown",
   "id": "fc777335",
   "metadata": {},
   "source": [
    "### Dog rating in terms of stage"
   ]
  },
  {
   "cell_type": "code",
   "execution_count": null,
   "id": "27067f71",
   "metadata": {},
   "outputs": [],
   "source": [
    "dog_rating_data = df[df['stage'] != 'None'][['stage','dog_rating']].value_counts().reset_index()\n",
    "dog_rating_data.rename(columns = {0:'count'}, inplace = True)\n",
    "fig = px.bar(dog_rating_data, x= 'stage', y= 'count', color = 'dog_rating')\n",
    "fig.show()"
   ]
  },
  {
   "cell_type": "code",
   "execution_count": null,
   "id": "88a53897",
   "metadata": {},
   "outputs": [],
   "source": [
    "dog_rating_data.columns"
   ]
  },
  {
   "cell_type": "code",
   "execution_count": null,
   "id": "eca96d4a",
   "metadata": {},
   "outputs": [],
   "source": [
    "### Dog breed prediction"
   ]
  },
  {
   "cell_type": "code",
   "execution_count": null,
   "id": "e2f8573c",
   "metadata": {},
   "outputs": [],
   "source": [
    "\n",
    "dog_prediction_data = df[df['stage'] != 'None'][['stage','prediction']].value_counts().reset_index()\n",
    "dog_prediction_data.rename(columns = {0:'count'}, inplace = True)\n",
    "dog_prediction_data = dog_prediction_data[dog_prediction_data['count']>=2]\n",
    "fig = px.bar(dog_prediction_data, x= 'stage', y = 'count', color = 'prediction')\n",
    "fig.show()"
   ]
  },
  {
   "cell_type": "code",
   "execution_count": null,
   "id": "038a9b91",
   "metadata": {},
   "outputs": [],
   "source": [
    "fig_sc = px.scatter(df, 'retweets', 'favorites', color= 'stage', trendline = 'ols')\n",
    "fig_sc.show()"
   ]
  },
  {
   "cell_type": "code",
   "execution_count": null,
   "id": "642fe5ae",
   "metadata": {},
   "outputs": [],
   "source": [
    "fig_line = px.line(df, x='timestamp', y='favorites')\n",
    "fig_line.show()\n",
    "# Output html that you can copy paste\n",
    "fig_line.to_html(full_html=False, include_plotlyjs='cdn')\n",
    "# Saves a html doc that you can copy paste\n",
    "fig_line.write_html(\"output.html\", full_html=False, include_plotlyjs='cdn')"
   ]
  }
 ],
 "metadata": {
  "kernelspec": {
   "display_name": "Python 3",
   "language": "python",
   "name": "python3"
  },
  "language_info": {
   "codemirror_mode": {
    "name": "ipython",
    "version": 3
   },
   "file_extension": ".py",
   "mimetype": "text/x-python",
   "name": "python",
   "nbconvert_exporter": "python",
   "pygments_lexer": "ipython3",
   "version": "3.8.8"
  }
 },
 "nbformat": 4,
 "nbformat_minor": 5
}
